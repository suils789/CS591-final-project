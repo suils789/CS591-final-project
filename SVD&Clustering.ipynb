{
 "cells": [
  {
   "cell_type": "code",
   "execution_count": 1,
   "metadata": {
    "collapsed": true,
    "scrolled": true
   },
   "outputs": [],
   "source": [
    "import pandas as pd\n",
    "import numpy as np"
   ]
  },
  {
   "cell_type": "code",
   "execution_count": 2,
   "metadata": {
    "collapsed": false,
    "scrolled": true
   },
   "outputs": [],
   "source": [
    "data = pd.read_csv('data.csv',encoding = 'latin1')"
   ]
  },
  {
   "cell_type": "code",
   "execution_count": 3,
   "metadata": {
    "collapsed": false,
    "scrolled": true
   },
   "outputs": [],
   "source": [
    "groups = data[['app_id', 'description', 'star_rating']].groupby(['app_id','description'])"
   ]
  },
  {
   "cell_type": "code",
   "execution_count": 4,
   "metadata": {
    "collapsed": false,
    "scrolled": true
   },
   "outputs": [],
   "source": [
    "temp = groups.count()\n",
    "temp = temp[temp['star_rating']>10]\n",
    "temp = temp.rename(columns = {'star_rating': 'count'})"
   ]
  },
  {
   "cell_type": "code",
   "execution_count": 5,
   "metadata": {
    "collapsed": false,
    "scrolled": true
   },
   "outputs": [],
   "source": [
    "df_mean = groups.mean()\n",
    "df_mean = df_mean.rename(columns = {'star_rating': 'mean_star'})\n",
    "data = df_mean.merge(temp, left_index = True, right_index = True)['mean_star'].to_frame()\n",
    "df_description = pd.DataFrame(data.index.values.tolist(), columns = ['app_id', 'description'])"
   ]
  },
  {
   "cell_type": "code",
   "execution_count": 6,
   "metadata": {
    "collapsed": false,
    "scrolled": true
   },
   "outputs": [],
   "source": [
    "df_description['mean_star'] = data['mean_star'].values"
   ]
  },
  {
   "cell_type": "code",
   "execution_count": 8,
   "metadata": {
    "collapsed": false,
    "scrolled": true
   },
   "outputs": [],
   "source": [
    "text = df_description['description']\n",
    "\n",
    "ls = text.values.tolist()\n",
    "import string\n",
    "exclude = set(string.punctuation)\n",
    "for i in range(len(ls)):\n",
    "    ls[i] = ''.join(ch for ch in ls[i] if ch not in exclude)"
   ]
  },
  {
   "cell_type": "code",
   "execution_count": 9,
   "metadata": {
    "collapsed": false
   },
   "outputs": [
    {
     "data": {
      "text/plain": [
       "2917"
      ]
     },
     "execution_count": 9,
     "metadata": {},
     "output_type": "execute_result"
    }
   ],
   "source": [
    "len(ls)"
   ]
  },
  {
   "cell_type": "code",
   "execution_count": 33,
   "metadata": {
    "collapsed": false,
    "scrolled": true
   },
   "outputs": [],
   "source": [
    "from sklearn.feature_extraction.text import TfidfVectorizer\n",
    "vectorizer = TfidfVectorizer(stop_words = 'english', min_df = 10,max_df=0.8)\n",
    "dtm = vectorizer.fit_transform(ls)\n",
    "terms = vectorizer.get_feature_names()"
   ]
  },
  {
   "cell_type": "code",
   "execution_count": 34,
   "metadata": {
    "collapsed": true,
    "scrolled": true
   },
   "outputs": [],
   "source": [
    "df_feature = pd.DataFrame(dtm.todense(),columns = vectorizer.get_feature_names())"
   ]
  },
  {
   "cell_type": "code",
   "execution_count": 35,
   "metadata": {
    "collapsed": false,
    "scrolled": true
   },
   "outputs": [
    {
     "data": {
      "text/plain": [
       "matrix([[  3.92828131e-14,   2.48117499e-14,   2.52905336e-14,\n",
       "           7.57705530e-15,   3.08377456e-14,  -1.11412615e-13,\n",
       "          -1.00672509e-14,  -1.32424453e-14,  -4.67247768e-15,\n",
       "           1.04676467e-14]])"
      ]
     },
     "execution_count": 35,
     "metadata": {},
     "output_type": "execute_result"
    }
   ],
   "source": [
    "dtm_dense = dtm.todense()\n",
    "centered_dtm = dtm_dense - np.mean(dtm_dense, axis=0)\n",
    "np.sum(centered_dtm,axis=0)[:,:10]"
   ]
  },
  {
   "cell_type": "code",
   "execution_count": 36,
   "metadata": {
    "collapsed": true,
    "scrolled": true
   },
   "outputs": [],
   "source": [
    "u,s,vt = np.linalg.svd(centered_dtm)"
   ]
  },
  {
   "cell_type": "code",
   "execution_count": 37,
   "metadata": {
    "collapsed": false,
    "scrolled": false
   },
   "outputs": [
    {
     "data": {
      "image/png": "[encoded data removed]",
      "text/plain": [
       "<matplotlib.figure.Figure at 0xefc4740dd8>"
      ]
     },
     "metadata": {},
     "output_type": "display_data"
    }
   ],
   "source": [
    "import matplotlib.pyplot as plt\n",
    "%matplotlib inline\n",
    "fig = plt.figure(figsize=(6,4))\n",
    "plt.plot(range(1,len(s)+1),s)\n",
    "plt.xlabel(r'$k$',size=20)\n",
    "plt.ylabel(r'$\\sigma_k$',size=20)\n",
    "_ = plt.title(r'Singular Values of $A$',size=20)"
   ]
  },
  {
   "cell_type": "code",
   "execution_count": 38,
   "metadata": {
    "collapsed": true,
    "scrolled": true
   },
   "outputs": [],
   "source": [
    "from sklearn.decomposition import TruncatedSVD\n",
    "from sklearn.preprocessing import Normalizer\n",
    "lsa = TruncatedSVD(100, algorithm = 'randomized')\n",
    "dtm_lsa = lsa.fit_transform(dtm)\n",
    "dtm_lsa = Normalizer(copy=False).fit_transform(dtm_lsa)"
   ]
  },
  {
   "cell_type": "code",
   "execution_count": 39,
   "metadata": {
    "collapsed": true,
    "scrolled": true
   },
   "outputs": [],
   "source": [
    "Vt = pd.DataFrame(lsa.components_,columns = vectorizer.get_feature_names())\n",
    "df_feature = pd.DataFrame(dtm_lsa)\n",
    "labels = []\n",
    "for i in range(100):\n",
    "    labels.append(Vt.loc[i].nlargest(10))"
   ]
  },
  {
   "cell_type": "code",
   "execution_count": null,
   "metadata": {
    "collapsed": true,
    "scrolled": true
   },
   "outputs": [],
   "source": []
  },
  {
   "cell_type": "code",
   "execution_count": 40,
   "metadata": {
    "collapsed": true,
    "scrolled": true
   },
   "outputs": [],
   "source": [
    "def get_cluster(cluster, df): \n",
    "    d = {}\n",
    "    i = 0\n",
    "    cluster = cluster.tolist()\n",
    "    while i < len(cluster):\n",
    "        d.setdefault(cluster[i],[]).append(pd.DataFrame([df_feature.loc[i,]]).index.values[0])\n",
    "        i = i+1\n",
    "    return d"
   ]
  },
  {
   "cell_type": "code",
   "execution_count": 41,
   "metadata": {
    "collapsed": true,
    "scrolled": true
   },
   "outputs": [],
   "source": [
    "from sklearn.cluster import KMeans  \n",
    "import sklearn.metrics as metrics\n",
    "def sc_evaluate_clusters(X,max_clusters):\n",
    "    s = np.zeros(max_clusters+1)\n",
    "    s[0] = 0;\n",
    "    s[1] = 0;\n",
    "    for k in range(2,max_clusters+1):\n",
    "        kmeans = KMeans(init='k-means++', n_clusters=k, n_init=10)\n",
    "        kmeans.fit_predict(X)\n",
    "        s[k] = metrics.silhouette_score(X,kmeans.labels_,metric='cosine')\n",
    "    plt.plot(range(2,len(s)),s[2:])\n",
    "    plt.xlabel('Number of clusters')\n",
    "    plt.ylabel('Adjusted Rand Index')\n",
    "    plt.show()"
   ]
  },
  {
   "cell_type": "code",
   "execution_count": 42,
   "metadata": {
    "collapsed": false,
    "scrolled": true
   },
   "outputs": [
    {
     "data": {
      "image/png": "[encoded data removed]",
      "text/plain": [
       "<matplotlib.figure.Figure at 0xefba8811d0>"
      ]
     },
     "metadata": {},
     "output_type": "display_data"
    }
   ],
   "source": [
    "sc_evaluate_clusters(df_feature, 20)"
   ]
  },
  {
   "cell_type": "code",
   "execution_count": 43,
   "metadata": {
    "collapsed": false,
    "scrolled": true
   },
   "outputs": [
    {
     "data": {
      "text/plain": [
       "array([ 2,  3,  1, ...,  0,  2, 10])"
      ]
     },
     "execution_count": 43,
     "metadata": {},
     "output_type": "execute_result"
    }
   ],
   "source": [
    "k=14\n",
    "kmeans = KMeans(n_clusters=k, init='k-means++', max_iter=100, n_init=1)\n",
    "kmeans_cluster = kmeans.fit_predict(df_feature)\n",
    "kmeans_predict = kmeans.predict(df_feature)\n",
    "kmeans_cluster"
   ]
  },
  {
   "cell_type": "code",
   "execution_count": 44,
   "metadata": {
    "collapsed": false,
    "scrolled": true
   },
   "outputs": [],
   "source": [
    "kcluster = get_cluster(kmeans_cluster, df_feature)\n"
   ]
  },
  {
   "cell_type": "code",
   "execution_count": null,
   "metadata": {
    "collapsed": false,
    "scrolled": true
   },
   "outputs": [],
   "source": [
    "df_description.ix[kcluster[0]]['description'].values"
   ]
  },
  {
   "cell_type": "code",
   "execution_count": 51,
   "metadata": {
    "collapsed": false,
    "scrolled": false
   },
   "outputs": [
    {
     "name": "stdout",
     "output_type": "stream",
     "text": [
      "Top terms per cluster:\n",
      "Cluster 0:\n",
      " ['game', 'mode', 'items', 'hidden', 'games', 'play', 'word', 'new', 'modes', 'puzzles']\n",
      " ['items', 'tiles', 'great', 'mahjong', 'difficulty', 'correct', 'slight', 'easiest', 'word', 'surprise']\n",
      " ['swap', 'pieces', 'correct', 'puzzle', 'spot', 'flip', 'puzzles', 'flipped', 'swapped', 'counting']\n",
      " ['flippix', 'logic', 'tiles', 'puzzles', 'hidden', 'art', 'puzzle', 'form', 'word', 'paint']\n",
      " ['tiles', 'mahjong', 'match', 'tile', 'board', 'candy', 'remove', 'layouts', 'level', 'matching']\n",
      "Cluster 1:\n",
      " ['jigsaw', 'pieces', 'piece', 'puzzles', 'puzzleboss', 'puzzle', '12', 'progress', '425', 'individual']\n",
      " ['game', 'mode', 'items', 'hidden', 'games', 'play', 'word', 'new', 'modes', 'puzzles']\n",
      " ['cubes', 'smaller', 'cube', 'comprised', 'delete', 'currently', 'entertain', 'pairs', 'hidden', 'matching']\n",
      " ['swap', 'pieces', 'correct', 'puzzle', 'spot', 'flip', 'puzzles', 'flipped', 'swapped', 'counting']\n",
      " ['cubes', 'smaller', 'flippix', 'logic', 'tiles', 'cube', 'comprised', '3d', 'delete', 'pairs']\n",
      "Cluster 2:\n",
      " ['game', 'mode', 'items', 'hidden', 'games', 'play', 'word', 'new', 'modes', 'puzzles']\n",
      " ['items', 'tiles', 'great', 'mahjong', 'difficulty', 'correct', 'slight', 'easiest', 'word', 'surprise']\n",
      " ['solitaire', 'cards', 'levels', 'candy', 'word', 'time', 'level', 'hunt', 'christmas', 'mini']\n",
      " ['cubes', 'smaller', 'flippix', 'logic', 'tiles', 'cube', 'comprised', '3d', 'delete', 'pairs']\n",
      " ['fish', 'bonus', 'big', 'play', 'casino', 'collectors', 'pay', 'promotion', 'gamesvisit', 'wwwbigfishgamescomwatch']\n",
      "Cluster 3:\n",
      " ['game', 'mode', 'items', 'hidden', 'games', 'play', 'word', 'new', 'modes', 'puzzles']\n",
      " ['swap', 'pieces', 'solitaire', 'correct', 'spot', 'game', 'mahjong', 'tiles', 'cards', 'flip']\n",
      " ['game', 'candy', 'match', 'play', 'portuguese', 'english', 'family', 'animals', 'german', 'spanish']\n",
      " ['candy', 'pathpix', 'board', 'christmas', 'player', 'multiplayer', 'puzzles', 'chess', 'players', 'objects']\n",
      " ['cubes', 'smaller', 'flippix', 'logic', 'tiles', 'cube', 'comprised', '3d', 'delete', 'pairs']\n",
      "Cluster 4:\n",
      " ['game', 'mode', 'items', 'hidden', 'games', 'play', 'word', 'new', 'modes', 'puzzles']\n",
      " ['car', 'racing', 'escape', 'cars', 'tiles', 'random', 'mahjong', '3d', 'race', 'mini']\n",
      " ['slot', 'time', 'puzzle', 'story', '200', 'racing', 'city', 'object', 'machine', 'mystery']\n",
      " ['time', 'pathpix', 'score', 'color', 'blocks', 'create', 'choose', 'points', 'mode', 'different']\n",
      " ['time', 'levels', 'jigsaw', 'difficulty', 'train', 'best', 'color', 'search', 'candy', 'different']\n",
      "Cluster 5:\n",
      " ['mode', 'items', 'extra', 'random', 'modes', 'list', 'silhouette', 'hints', 'item', 'timed']\n",
      " ['game', 'mode', 'items', 'hidden', 'games', 'play', 'word', 'new', 'modes', 'puzzles']\n",
      " ['cubes', 'smaller', 'flippix', 'logic', 'tiles', 'cube', 'comprised', '3d', 'delete', 'pairs']\n",
      " ['fish', 'big', 'games', 'mac', 'discover', 'pc', 'mobile', 'adventure', 'enjoy', 'leading']\n",
      " ['jigsaw', 'pieces', 'piece', 'puzzles', 'puzzleboss', 'puzzle', '12', 'progress', '425', 'individual']\n",
      "Cluster 6:\n",
      " ['game', 'mode', 'items', 'hidden', 'games', 'play', 'word', 'new', 'modes', 'puzzles']\n",
      " ['swap', 'pieces', 'solitaire', 'correct', 'spot', 'game', 'mahjong', 'tiles', 'cards', 'flip']\n",
      " ['flippix', 'logic', 'tiles', 'puzzles', 'hidden', 'art', 'puzzle', 'form', 'word', 'paint']\n",
      " ['cubes', 'smaller', 'flippix', 'logic', 'tiles', 'cube', 'comprised', '3d', 'delete', 'pairs']\n",
      " ['privacy', 'user', 'solitaire', 'simulator', 'hunt', 'cartoon', 'network', 'data', 'policy', 'objects']\n",
      "Cluster 7:\n",
      " ['game', 'mode', 'items', 'hidden', 'games', 'play', 'word', 'new', 'modes', 'puzzles']\n",
      " ['cubes', 'smaller', 'cube', 'comprised', 'delete', 'currently', 'entertain', 'pairs', 'hidden', 'matching']\n",
      " ['flippix', 'logic', 'tiles', 'puzzles', 'hidden', 'art', 'puzzle', 'form', 'word', 'paint']\n",
      " ['privacy', 'fun', 'levels', 'mac', 'user', 'available', 'pc', 'cartoon', 'description', 'mobile']\n",
      " ['mode', 'items', 'extra', 'random', 'modes', 'list', 'silhouette', 'hints', 'item', 'timed']\n",
      "Cluster 8:\n",
      " ['garden', 'simulator', 'new', 'words', 'hidden', 'musical', 'word', 'tiles', 'stunning', 'swap']\n",
      " ['game', 'mode', 'items', 'hidden', 'games', 'play', 'word', 'new', 'modes', 'puzzles']\n",
      " ['privacy', 'user', 'solitaire', 'simulator', 'hunt', 'cartoon', 'network', 'data', 'policy', 'objects']\n",
      " ['swap', 'pieces', 'correct', 'puzzle', 'spot', 'flip', 'puzzles', 'flipped', 'swapped', 'counting']\n",
      " ['game', 'candy', 'match', 'play', 'portuguese', 'english', 'family', 'animals', 'german', 'spanish']\n",
      "Cluster 9:\n",
      " ['game', 'mode', 'items', 'hidden', 'games', 'play', 'word', 'new', 'modes', 'puzzles']\n",
      " ['questions', 'trivia', 'guess', 'pics', 'word', 'answer', 'game', 'quiz', 'war', 'pictures']\n",
      " ['questions', 'christmas', 'trivia', 'blocks', 'score', 'best', 'time', 'points', 'brain', 'new']\n",
      " ['game', 'candy', 'match', 'play', 'portuguese', 'english', 'family', 'animals', 'german', 'spanish']\n",
      " ['doodle', 'questions', 'levels', 'world', 'jump', 'play', 'trivia', 'players', 'run', 'ninja']\n",
      "Cluster 10:\n",
      " ['fish', 'big', 'games', 'mac', 'discover', 'pc', 'mobile', 'adventure', 'enjoy', 'leading']\n",
      " ['game', 'mode', 'items', 'hidden', 'games', 'play', 'word', 'new', 'modes', 'puzzles']\n",
      " ['fish', 'bonus', 'big', 'play', 'casino', 'collectors', 'pay', 'promotion', 'gamesvisit', 'wwwbigfishgamescomwatch']\n",
      " ['word', 'words', 'letters', 'games', 'letter', 'board', 'puzzle', 'fish', 'tiles', 'list']\n",
      " ['privacy', 'user', 'solitaire', 'simulator', 'hunt', 'cartoon', 'network', 'data', 'policy', 'objects']\n",
      "Cluster 11:\n",
      " ['word', 'words', 'letters', 'games', 'letter', 'board', 'puzzle', 'fish', 'tiles', 'list']\n",
      " ['game', 'mode', 'items', 'hidden', 'games', 'play', 'word', 'new', 'modes', 'puzzles']\n",
      " ['flippix', 'logic', 'tiles', 'puzzles', 'hidden', 'art', 'puzzle', 'form', 'word', 'paint']\n",
      " ['cubes', 'smaller', 'cube', 'comprised', 'delete', 'currently', 'entertain', 'pairs', 'hidden', 'matching']\n",
      " ['garden', 'simulator', 'new', 'words', 'hidden', 'musical', 'word', 'tiles', 'stunning', 'swap']\n",
      "Cluster 12:\n",
      " ['game', 'mode', 'items', 'hidden', 'games', 'play', 'word', 'new', 'modes', 'puzzles']\n",
      " ['levels', 'portuguese', 'spanish', 'french', 'german', 'english', 'italian', 'russian', 'chinese', 'mode']\n",
      " ['privacy', 'fun', 'levels', 'mac', 'user', 'available', 'pc', 'cartoon', 'description', 'mobile']\n",
      " ['tiles', 'mahjong', 'match', 'tile', 'board', 'candy', 'remove', 'layouts', 'level', 'matching']\n",
      " ['blocks', 'puzzle', 'items', 'slot', 'create', 'level', 'images', 'dark', 'block', 'hints']\n",
      "Cluster 13:\n",
      " ['game', 'mode', 'items', 'hidden', 'games', 'play', 'word', 'new', 'modes', 'puzzles']\n",
      " ['privacy', 'fun', 'levels', 'mac', 'user', 'available', 'pc', 'cartoon', 'description', 'mobile']\n",
      " ['privacy', 'user', 'garden', 'cartoon', 'policy', 'network', 'data', 'services', 'app', 'users']\n",
      " ['new', 'puzzle', 'escape', 'strategy', 'build', 'portuguese', 'fun', 'levels', 'customers', 'tower']\n",
      " ['privacy', 'user', 'solitaire', 'simulator', 'hunt', 'cartoon', 'network', 'data', 'policy', 'objects']\n"
     ]
    }
   ],
   "source": [
    "print(\"Top terms per cluster:\")\n",
    "asc_order_centroids = kmeans.cluster_centers_.argsort()#[:, ::-1]\n",
    "order_centroids = asc_order_centroids[:,::-1]\n",
    "# for i in range(k):\n",
    "#     print(\"Cluster {}:\".format(i))\n",
    "#     for ind in order_centroids[i, :10]:\n",
    "#         print(' {}'.format(terms[ind]))\n",
    "#     print('')\n",
    "# kcenter = []\n",
    "# for i in range(k):\n",
    "#     kcenter.append(get_center(kcluster[i])[:100])\n",
    "#     kcenter[i] = np.array(kcenter[i]).argsort()[::-1]\n",
    "for i in range(k):\n",
    "    print(\"Cluster {}:\".format(i))\n",
    "    for j in order_centroids[i][0:5]:\n",
    "        print (' {}'.format(labels[j].index.tolist()))"
   ]
  },
  {
   "cell_type": "code",
   "execution_count": 47,
   "metadata": {
    "collapsed": false,
    "scrolled": true
   },
   "outputs": [],
   "source": [
    "from sklearn import mixture\n",
    "def sc_evaluate_gmm(X,max_clusters):\n",
    "    s = np.zeros(max_clusters+1)\n",
    "    s[0] = 0;\n",
    "    s[1] = 0;\n",
    "    for k in range(2,max_clusters+1):\n",
    "        gmm = mixture.GMM(n_components=k, covariance_type='full')\n",
    "        gmm.fit_predict(X)\n",
    "        label = gmm.predict(X)\n",
    "        s[k] = metrics.silhouette_score(X,label,metric='cosine')\n",
    "    plt.plot(range(2,len(s)),s[2:])\n",
    "    plt.xlabel('Number of clusters')\n",
    "    plt.ylabel('Adjusted Rand Index')\n",
    "    plt.show()"
   ]
  },
  {
   "cell_type": "code",
   "execution_count": 48,
   "metadata": {
    "collapsed": false,
    "scrolled": true
   },
   "outputs": [
    {
     "data": {
      "image/png": "[encoded data removed]",
      "text/plain": [
       "<matplotlib.figure.Figure at 0xefba8810f0>"
      ]
     },
     "metadata": {},
     "output_type": "display_data"
    }
   ],
   "source": [
    "sc_evaluate_gmm(df_feature, 10)"
   ]
  },
  {
   "cell_type": "code",
   "execution_count": 49,
   "metadata": {
    "collapsed": false,
    "scrolled": true
   },
   "outputs": [
    {
     "data": {
      "text/plain": [
       "array([2, 0, 0, ..., 1, 2, 7], dtype=int64)"
      ]
     },
     "execution_count": 49,
     "metadata": {},
     "output_type": "execute_result"
    }
   ],
   "source": [
    "g=8\n",
    "gmm = mixture.GMM(n_components=g, covariance_type='full')\n",
    "gmm.fit(df_feature)\n",
    "gmm_clustering = gmm.predict(df_feature)\n",
    "gmm_clustering"
   ]
  },
  {
   "cell_type": "code",
   "execution_count": 50,
   "metadata": {
    "collapsed": false,
    "scrolled": true
   },
   "outputs": [
    {
     "ename": "IndexError",
     "evalue": "invalid index to scalar variable.",
     "output_type": "error",
     "traceback": [
      "\u001b[0;31m---------------------------------------------------------------------------\u001b[0m",
      "\u001b[0;31mIndexError\u001b[0m                                Traceback (most recent call last)",
      "\u001b[0;32m<ipython-input-50-cfe1ce176747>\u001b[0m in \u001b[0;36m<module>\u001b[0;34m()\u001b[0m\n\u001b[1;32m      4\u001b[0m     \u001b[0mglocation\u001b[0m\u001b[1;33m[\u001b[0m\u001b[0mi\u001b[0m\u001b[1;33m]\u001b[0m \u001b[1;33m=\u001b[0m \u001b[1;33m[\u001b[0m\u001b[1;33m]\u001b[0m\u001b[1;33m\u001b[0m\u001b[0m\n\u001b[1;32m      5\u001b[0m     \u001b[1;32mfor\u001b[0m \u001b[0mj\u001b[0m \u001b[1;32min\u001b[0m \u001b[0mrange\u001b[0m\u001b[1;33m(\u001b[0m\u001b[0mlen\u001b[0m\u001b[1;33m(\u001b[0m\u001b[0mgcluster\u001b[0m\u001b[1;33m[\u001b[0m\u001b[0mi\u001b[0m\u001b[1;33m]\u001b[0m\u001b[1;33m)\u001b[0m\u001b[1;33m)\u001b[0m\u001b[1;33m:\u001b[0m\u001b[1;33m\u001b[0m\u001b[0m\n\u001b[0;32m----> 6\u001b[0;31m         \u001b[0mglocation\u001b[0m\u001b[1;33m[\u001b[0m\u001b[0mi\u001b[0m\u001b[1;33m]\u001b[0m\u001b[1;33m.\u001b[0m\u001b[0mappend\u001b[0m\u001b[1;33m(\u001b[0m\u001b[1;33m(\u001b[0m\u001b[0mgcluster\u001b[0m\u001b[1;33m[\u001b[0m\u001b[0mi\u001b[0m\u001b[1;33m]\u001b[0m\u001b[1;33m[\u001b[0m\u001b[0mj\u001b[0m\u001b[1;33m]\u001b[0m\u001b[1;33m[\u001b[0m\u001b[1;33m-\u001b[0m\u001b[1;36m1\u001b[0m\u001b[1;33m]\u001b[0m\u001b[1;33m,\u001b[0m\u001b[0mgcluster\u001b[0m\u001b[1;33m[\u001b[0m\u001b[0mi\u001b[0m\u001b[1;33m]\u001b[0m\u001b[1;33m[\u001b[0m\u001b[0mj\u001b[0m\u001b[1;33m]\u001b[0m\u001b[1;33m[\u001b[0m\u001b[1;33m-\u001b[0m\u001b[1;36m2\u001b[0m\u001b[1;33m]\u001b[0m\u001b[1;33m)\u001b[0m\u001b[1;33m)\u001b[0m\u001b[1;33m\u001b[0m\u001b[0m\n\u001b[0m",
      "\u001b[0;31mIndexError\u001b[0m: invalid index to scalar variable."
     ]
    }
   ],
   "source": [
    "gcluster = get_cluster(gmm_clustering, df_feature)\n",
    "glocation = {}\n",
    "for i in range(g):\n",
    "    glocation[i] = []\n",
    "    for j in range(len(gcluster[i])):\n",
    "        glocation[i].append((gcluster[i][j][-1],gcluster[i][j][-2]))"
   ]
  },
  {
   "cell_type": "code",
   "execution_count": null,
   "metadata": {
    "collapsed": false,
    "scrolled": false
   },
   "outputs": [],
   "source": [
    "#label the gmm clusters by hot terms\n",
    "gcluster = get_cluster(gmm_clustering, df_feature)\n",
    "gcenter = []\n",
    "for i in range(g):\n",
    "    gcenter.append(get_center(gcluster[i])[:100])\n",
    "    gcenter[i] = np.array(gcenter[i]).argsort()[::-1]\n",
    "for i in range(g):\n",
    "    print(\"Cluster {}:\".format(i))\n",
    "    for j in gcenter[i][0:5]:\n",
    "        print (' {}'.format(labels[j].index.tolist()))"
   ]
  }
 ],
 "metadata": {
  "anaconda-cloud": {},
  "kernelspec": {
   "display_name": "Python [conda root]",
   "language": "python",
   "name": "conda-root-py"
  },
  "language_info": {
   "codemirror_mode": {
    "name": "ipython",
    "version": 3
   },
   "file_extension": ".py",
   "mimetype": "text/x-python",
   "name": "python",
   "nbconvert_exporter": "python",
   "pygments_lexer": "ipython3",
   "version": "3.5.2"
  }
 },
 "nbformat": 4,
 "nbformat_minor": 1
}

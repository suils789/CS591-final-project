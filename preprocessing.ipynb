{
 "cells": [
  {
   "cell_type": "code",
   "execution_count": 1,
   "metadata": {
    "collapsed": true
   },
   "outputs": [],
   "source": [
    "import pandas as pd\n",
    "import numpy as np"
   ]
  },
  {
   "cell_type": "code",
   "execution_count": 2,
   "metadata": {
    "collapsed": true
   },
   "outputs": [],
   "source": [
    "df1 = pd.read_csv('train_data.csv',\n",
    "                header=0, sep=',',\n",
    "                parse_dates=['date', 'release_date', 'update_date'],\n",
    "                infer_datetime_format=True, encoding = 'latin1')"
   ]
  },
  {
   "cell_type": "code",
   "execution_count": 3,
   "metadata": {
    "collapsed": true
   },
   "outputs": [],
   "source": [
    "df2 = pd.read_csv('test_data.csv',\n",
    "                header=0, sep=',',\n",
    "                parse_dates=['date', 'release_date', 'update_date'],\n",
    "                infer_datetime_format=True, encoding = 'latin1')"
   ]
  },
  {
   "cell_type": "code",
   "execution_count": 4,
   "metadata": {
    "collapsed": false,
    "scrolled": false
   },
   "outputs": [],
   "source": [
    "data = df1.append(df2, ignore_index = True)[['asin','categories', 'description', 'review_id','review_text','reviewer','star_rating']]\n",
    "data = data.rename(columns = {'asin': 'app_id'})"
   ]
  },
  {
   "cell_type": "code",
   "execution_count": 5,
   "metadata": {
    "collapsed": false,
    "scrolled": false
   },
   "outputs": [
    {
     "ename": "NameError",
     "evalue": "name 'train' is not defined",
     "output_type": "error",
     "traceback": [
      "\u001b[0;31m---------------------------------------------------------------------------\u001b[0m",
      "\u001b[0;31mNameError\u001b[0m                                 Traceback (most recent call last)",
      "\u001b[0;32m<ipython-input-5-c8b2fface5d1>\u001b[0m in \u001b[0;36m<module>\u001b[0;34m()\u001b[0m\n\u001b[0;32m----> 1\u001b[0;31m \u001b[0mtrain\u001b[0m\u001b[1;33m.\u001b[0m\u001b[0mappend\u001b[0m\u001b[1;33m(\u001b[0m\u001b[0mmiss_star_rating\u001b[0m\u001b[1;33m)\u001b[0m\u001b[1;33m.\u001b[0m\u001b[0mtail\u001b[0m\u001b[1;33m(\u001b[0m\u001b[1;36m501757\u001b[0m\u001b[1;33m-\u001b[0m\u001b[1;36m436680\u001b[0m\u001b[1;33m)\u001b[0m\u001b[1;33m\u001b[0m\u001b[0m\n\u001b[0m",
      "\u001b[0;31mNameError\u001b[0m: name 'train' is not defined"
     ]
    }
   ],
   "source": [
    "train.append(miss_star_rating).tail(501757-436680)"
   ]
  },
  {
   "cell_type": "code",
   "execution_count": 7,
   "metadata": {
    "collapsed": false
   },
   "outputs": [],
   "source": [
    "data = data.dropna(submiss_star_ratingset = ['categories'])\n",
    "data = data[data['categories'].str.contains('game', case = False)]"
   ]
  },
  {
   "cell_type": "code",
   "execution_count": 8,
   "metadata": {
    "collapsed": false
   },
   "outputs": [],
   "source": [
    "data = data.dropna(subset = ['review_text'])"
   ]
  },
  {
   "cell_type": "code",
   "execution_count": 9,
   "metadata": {
    "collapsed": false
   },
   "outputs": [],
   "source": [
    "miss_star_rating = data[~np.isfinite(data['star_rating'])]\n",
    "miss_star_rating = miss_star_rating[['review_text', 'star_rating']]\n",
    "train = data[np.isfinite(data['star_rating'])]"
   ]
  },
  {
   "cell_type": "code",
   "execution_count": null,
   "metadata": {
    "collapsed": false
   },
   "outputs": [],
   "source": [
    "train = train[['review_text', 'star_rating']]"
   ]
  },
  {
   "cell_type": "code",
   "execution_count": null,
   "metadata": {
    "collapsed": true
   },
   "outputs": [],
   "source": [
    "text = train['review_text']\n",
    "\n",
    "ls = text.values.tolist()\n",
    "import string\n",
    "exclude = set(string.punctuation)\n",
    "for i in range(len(ls)):\n",
    "    ls[i] = ''.join(ch for ch in ls[i] if ch not in exclude)"
   ]
  },
  {
   "cell_type": "code",
   "execution_count": null,
   "metadata": {
    "collapsed": false
   },
   "outputs": [],
   "source": [
    "from sklearn.feature_extraction.text import TfidfVectorizer\n",
    "vectorizer = TfidfVectorizer(min_df = 0.005,max_df=0.8)\n",
    "dtm = vectorizer.fit_transform(ls)\n",
    "terms = vectorizer.get_feature_names()"
   ]
  },
  {
   "cell_type": "code",
   "execution_count": null,
   "metadata": {
    "collapsed": false
   },
   "outputs": [],
   "source": [
    "X_train = train['star_rating']"
   ]
  },
  {
   "cell_type": "code",
   "execution_count": null,
   "metadata": {
    "collapsed": false
   },
   "outputs": [],
   "source": [
    "Y = train['star_rating']"
   ]
  },
  {
   "cell_type": "code",
   "execution_count": null,
   "metadata": {
    "collapsed": false
   },
   "outputs": [],
   "source": [
    "from sklearn.cross_validation import train_test_split\n",
    "\n",
    "X_train, X_test, y_train, y_test = train_test_split(dtm, Y, test_size=0.5, random_state=0)\n",
    "\n",
    "X_train = pd.DataFrame(X_train.todense(),columns = vectorizer.get_feature_names())\n",
    "\n",
    "X_test = pd.DataFrame(X_test.todense(),columns = vectorizer.get_feature_names())"
   ]
  },
  {
   "cell_type": "code",
   "execution_count": null,
   "metadata": {
    "collapsed": false
   },
   "outputs": [],
   "source": [
    "from sklearn.naive_bayes import GaussianNB\n",
    "gnb = GaussianNB()\n",
    "gnb.fit(X_train, y_train)\n",
    "y_pred1 = gnb.predict(X_test)\n",
    "nb_avg_error = ((abs(y_test - y_pred1)).sum())/len(y_pred1)\n",
    "print('Naive Bayes Misclassified samples: %d'% (y_test != y_pred1).sum())\n",
    "print('Naive Bayes average error: %.6f'% nb_avg_error)\n",
    "from sklearn.metrics import accuracy_score\n",
    "print('Naive Bayes Accuracy: %.2f'% accuracy_score(y_test, y_pred1))"
   ]
  },
  {
   "cell_type": "code",
   "execution_count": null,
   "metadata": {
    "collapsed": false
   },
   "outputs": [],
   "source": [
    "from sklearn.ensemble import RandomForestClassifier\n",
    "\n",
    "forest = RandomForestClassifier(criterion='entropy',\n",
    "                                n_estimators=100, \n",
    "                                random_state=1,\n",
    "                                n_jobs=2)\n",
    "forest.fit(X_train, y_train)\n",
    "\n",
    "y_pred_forest = forest.predict(X_test)\n",
    "rf_avg_error = ((abs(y_test - y_pred_forest)).sum())/len(y_pred_forest)\n",
    "print('RF Misclassified samples: %d'% (y_test != y_pred_forest).sum())\n",
    "print('RF average error: %.6f'% rf_avg_error)\n",
    "from sklearn.metrics import accuracy_score\n",
    "\n",
    "print('RF Accuracy: %.2f'% accuracy_score(y_test, y_pred_forest))"
   ]
  },
  {
   "cell_type": "code",
   "execution_count": null,
   "metadata": {
    "collapsed": false
   },
   "outputs": [],
   "source": [
    "from sklearn import linear_model\n",
    "# Create linear regression object\n",
    "regr = linear_model.LinearRegression()\n",
    "\n",
    "# Train the model using the training sets\n",
    "regr.fit(X_train, y_train)\n",
    "\n",
    "y_train_pred = regr.predict(X_train)\n",
    "y_test_pred = regr.predict(X_test)\n",
    "regr_avg_error = ((abs(y_test - y_test_pred)).sum())/len(y_test_pred)\n",
    "print('Linear regression average error: %.6f'% regr_avg_error)\n",
    "from sklearn.metrics import r2_score\n",
    "from sklearn.metrics import mean_squared_error\n",
    "\n",
    "print('MSE train: %.3f, test: %.3f' %(mean_squared_error(y_train, y_train_pred),\n",
    "                                      mean_squared_error(y_test, y_test_pred)))\n",
    " \n",
    "print('R^2 train: %.3f, test: %.3f' %(r2_score(y_train, y_train_pred),\n",
    "                                      r2_score(y_test, y_test_pred)))"
   ]
  },
  {
   "cell_type": "code",
   "execution_count": null,
   "metadata": {
    "collapsed": false
   },
   "outputs": [],
   "source": [
    "from sklearn.linear_model import LogisticRegression\n",
    "\n",
    "lr = LogisticRegression(C=1000.0, random_state=0)\n",
    "lr.fit(X_train, y_train)\n",
    "        \n",
    "y_pred = lr.predict(X_test)\n",
    "print('Misclassified samples: %d' % (y_test != y_pred).sum())\n",
    "\n",
    "from sklearn.metrics import accuracy_score\n",
    "lr_avg_error = ((abs(y_test - y_pred)).sum())/len(y_pred)\n",
    "print('Accuracy: %.2f' % accuracy_score(y_test, y_pred))    \n",
    "print('Logistic regression average error: %.6f'% lr_avg_error)"
   ]
  },
  {
   "cell_type": "code",
   "execution_count": null,
   "metadata": {
    "collapsed": true
   },
   "outputs": [],
   "source": [
    "text = train.append(miss_star_rating)['review_text']"
   ]
  },
  {
   "cell_type": "code",
   "execution_count": null,
   "metadata": {
    "collapsed": true
   },
   "outputs": [],
   "source": [
    "ls = text.values.tolist()\n",
    "import string\n",
    "exclude = set(string.punctuation)\n",
    "for i in range(len(ls)):\n",
    "    ls[i] = ''.join(ch for ch in ls[i] if ch not in exclude)"
   ]
  },
  {
   "cell_type": "code",
   "execution_count": null,
   "metadata": {
    "collapsed": true
   },
   "outputs": [],
   "source": [
    "from sklearn.feature_extraction.text import TfidfVectorizer\n",
    "vectorizer = TfidfVectorizer(min_df = 0.002,max_df=0.8)\n",
    "dtm = vectorizer.fit_transform(ls)\n",
    "terms = vectorizer.get_feature_names()"
   ]
  },
  {
   "cell_type": "code",
   "execution_count": null,
   "metadata": {
    "collapsed": false
   },
   "outputs": [],
   "source": [
    "X = pd.DataFrame(dtm.todense(),columns = vectorizer.get_feature_names())"
   ]
  },
  {
   "cell_type": "code",
   "execution_count": null,
   "metadata": {
    "collapsed": false
   },
   "outputs": [],
   "source": [
    "X_known = X.head(436680)\n",
    "Y_known = train.append(miss_star_rating)['star_rating'].head(436680)\n",
    "X_unknown = X.tail(501757-436680)\n",
    "Y_unknown = train.append(miss_star_rating)['star_rating'].tail(501757-436680)"
   ]
  },
  {
   "cell_type": "code",
   "execution_count": null,
   "metadata": {
    "collapsed": false
   },
   "outputs": [],
   "source": [
    "from sklearn.linear_model import LogisticRegression\n",
    "\n",
    "lr = LogisticRegression(C=1000.0, random_state=0)\n",
    "lr.fit(X_known, Y_known)"
   ]
  },
  {
   "cell_type": "code",
   "execution_count": null,
   "metadata": {
    "collapsed": true
   },
   "outputs": [],
   "source": [
    "y_pred = lr.predict(X_unknown)"
   ]
  },
  {
   "cell_type": "code",
   "execution_count": null,
   "metadata": {
    "collapsed": false
   },
   "outputs": [],
   "source": [
    "miss_star_rating = data[~np.isfinite(data['star_rating'])]\n",
    "miss_star_rating['star_rating'] = y_pred"
   ]
  },
  {
   "cell_type": "code",
   "execution_count": null,
   "metadata": {
    "collapsed": false
   },
   "outputs": [],
   "source": [
    "train = data[np.isfinite(data['star_rating'])]"
   ]
  },
  {
   "cell_type": "code",
   "execution_count": null,
   "metadata": {
    "collapsed": false
   },
   "outputs": [],
   "source": [
    "data"
   ]
  },
  {
   "cell_type": "code",
   "execution_count": null,
   "metadata": {
    "collapsed": false
   },
   "outputs": [],
   "source": [
    "data = data[['app_id','categories', 'description', 'review_id','review_text','reviewer','star_rating']]"
   ]
  },
  {
   "cell_type": "code",
   "execution_count": null,
   "metadata": {
    "collapsed": false
   },
   "outputs": [],
   "source": [
    "data.to_csv('data.csv', index = False)"
   ]
  }
 ],
 "metadata": {
  "anaconda-cloud": {},
  "kernelspec": {
   "display_name": "Python [conda root]",
   "language": "python",
   "name": "conda-root-py"
  },
  "language_info": {
   "codemirror_mode": {
    "name": "ipython",
    "version": 3
   },
   "file_extension": ".py",
   "mimetype": "text/x-python",
   "name": "python",
   "nbconvert_exporter": "python",
   "pygments_lexer": "ipython3",
   "version": "3.5.2"
  }
 },
 "nbformat": 4,
 "nbformat_minor": 1
}
